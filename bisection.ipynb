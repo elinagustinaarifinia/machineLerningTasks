{
  "nbformat": 4,
  "nbformat_minor": 0,
  "metadata": {
    "colab": {
      "provenance": [],
      "include_colab_link": true
    },
    "kernelspec": {
      "name": "python3",
      "display_name": "Python 3"
    },
    "language_info": {
      "name": "python"
    }
  },
  "cells": [
    {
      "cell_type": "markdown",
      "metadata": {
        "id": "view-in-github",
        "colab_type": "text"
      },
      "source": [
        "<a href=\"https://colab.research.google.com/github/elinagustinaarifinia/machineLerningTasks/blob/main/bisection.ipynb\" target=\"_parent\"><img src=\"https://colab.research.google.com/assets/colab-badge.svg\" alt=\"Open In Colab\"/></a>"
      ]
    },
    {
      "cell_type": "markdown",
      "source": [
        "bisection bertujuan untuk menemukan akar dari suatu fungsi\n",
        "\n",
        "perintah import numpy as np terdiri atas dua bagian\n",
        "\n",
        "a). import numpy\n",
        "import numpy untuk mengimpor **numpy** yang merupakan pustaka dari phyton.\n",
        "\n",
        "b). as np\n",
        "fungsinya untuk merujuk modul **numpy** dengan nama yang lebih singkat dan mudah diingat yaitu **np**\n"
      ],
      "metadata": {
        "id": "adHF4vUVrcRV"
      }
    },
    {
      "cell_type": "code",
      "execution_count": null,
      "metadata": {
        "id": "2JHVHadOtZcL"
      },
      "outputs": [],
      "source": [
        "import numpy as np"
      ]
    },
    {
      "cell_type": "markdown",
      "source": [
        "1.**fungsi bisection merupakan fungsi yang bertujuan untuk menemukan nilai akar dari suatu fungsi**\n",
        "\n",
        "fungsi kode\n",
        "**def bisection(f, a, b, tol):**\n",
        "\n",
        "\n",
        "**PARAMETER**\n",
        "\n",
        "f : fungsi yang ingin dicari akarnya\n",
        "\n",
        "a : batas bawah interval pencarian\n",
        "\n",
        "b : batas atas interval pencarian\n",
        "\n",
        "tol : toleransi atau tingkat akurasi yang diinginkan"
      ],
      "metadata": {
        "id": "dzKZGWJhurkO"
      }
    },
    {
      "cell_type": "markdown",
      "source": [
        "2.fungsi kode\n",
        "**if np.sign(f(a)) == np.sign(f(b)):\n",
        "       raise Exception(\"tidak bisa\")**\n",
        "\n",
        "untuk memeriksa apakah tanda dari fungsi f pada batas atas (a) dan batas bawah (b) sama. Jika sama maka tidak akan ada akar didalam interval tersebut dan akan munculkan kata **tidak bisa**"
      ],
      "metadata": {
        "id": "WIvWgUMhwOpT"
      }
    },
    {
      "cell_type": "markdown",
      "source": [
        "3.fungsi kode **m = (a + b)/2** untuk mencari titik tengah sehingga m merupakan titik tengah antara a dan b"
      ],
      "metadata": {
        "id": "_19uRuXALqkS"
      }
    },
    {
      "cell_type": "markdown",
      "source": [
        "4.fungsi kode **if np.abs(f(m)) < tol:\n",
        "return m** adalah untuk mengecek apabila nilai absolut dari fungsi f dan titik tengah yaitu m kurang dari toleransi (tol) maka m dianggap sebagai akar yang cukup akurat dan fungsi akan mengembalikan nilai m"
      ],
      "metadata": {
        "id": "XMKdcJOAL7Jo"
      }
    },
    {
      "cell_type": "markdown",
      "source": [
        "5.bagian rekursi\n",
        "\n",
        "fungsi dari kode **elif np.sign(f(a)) == np.sign(f(m)):\n",
        "       return bisection(f, m, b, tol)\n",
        "   elif np.sign(f(b)) == np.sign(f(m)):\n",
        "       return bisection(f, a, m, tol)**\n",
        "\n",
        "apabila nilai f(m) belum cukup akurat maka fungsi akan memanggil dirinya sendiri yaitu biscection secara rekrusif. apabila tanda f(a) sama dengan tanda f(m) maka akar akan berada di interval (m,b) dan fungsi akan dipanggil kembali dengan intervL baru tersebut\n",
        "\n",
        "apabila tanda f(b) sama dengan tanda f(m) maka akar akan berada di interval (a,m) dan fungsi akan kembali dengan interval baru tersebut\n",
        "\n",
        "proses ini akan berulang sampai ditemukan akar yang memenuhi toleransi (tol)"
      ],
      "metadata": {
        "id": "OEvXZyqSN83k"
      }
    },
    {
      "cell_type": "code",
      "source": [
        "def bisection(f, a, b, tol):\n",
        "\n",
        "    if np.sign(f(a)) == np.sign(f(b)):\n",
        "        raise Exception(\n",
        "         \"tidak bisa\")\n",
        "\n",
        "    m = (a + b)/2\n",
        "\n",
        "    if np.abs(f(m)) < tol:\n",
        "        return m\n",
        "    elif np.sign(f(a)) == np.sign(f(m)):\n",
        "        return bisection(f, m, b, tol)\n",
        "    elif np.sign(f(b)) == np.sign(f(m)):\n",
        "        return bisection(f, a, m, tol)"
      ],
      "metadata": {
        "id": "5_LhaSoZurtu"
      },
      "execution_count": null,
      "outputs": []
    },
    {
      "cell_type": "markdown",
      "source": [
        "1.fungsi dari **f = lambda x: x**2 - 2** f adalah untuk menerima satu argumen x dan mengembalikan nilai x^2 - 2. fungsi f ini merepretasikan persamaan yang ingin dicari yaitu x^2 - 2 = 0"
      ],
      "metadata": {
        "id": "dwAx4SLDQDkZ"
      }
    },
    {
      "cell_type": "code",
      "source": [],
      "metadata": {
        "id": "ghNgRQvvaETH"
      },
      "execution_count": null,
      "outputs": []
    },
    {
      "cell_type": "markdown",
      "source": [
        "2.fungsi dari kode **r1 = bisection(f, 0, 2, 0.1)** untuk memanggil fungsi bisection yaitu f untuk fungsi yang ingin dicari akarnya, 0 untuk batas bawah(a), 2 untuk batas atas(b) dan 0.1 untuk toleransi atau tingkat akurasi yang diinginkan. hasil pemanggilan akan disimpan dalam variabel r1\n",
        "\n",
        "**print(\"r1 =\", r1)** untuk mencetak nilai r1"
      ],
      "metadata": {
        "id": "B9GZlXdeQ5gT"
      }
    },
    {
      "cell_type": "markdown",
      "source": [
        "3.fungsi kode **r01 = bisection(f, 0, 2, 0.01)\n",
        "print(\"r01 =\", r01)** sama seperti nomor 2 dengan toleransi akurasi lebih tinggi yaitu 0.01\n"
      ],
      "metadata": {
        "id": "QvENE4neRvrU"
      }
    },
    {
      "cell_type": "markdown",
      "source": [
        "4.fungsi kode **print(\"f(r1) =\", f(r1))\n",
        "print(\"f(r01) =\", f(r01))** sama sama untuk mencetak nilai fungsi f pada akar r1 dan r01"
      ],
      "metadata": {
        "id": "Kugpj-qLSFd4"
      }
    },
    {
      "cell_type": "markdown",
      "source": [
        "kode ini untuk mencari akar daripersamaan x^2-2 = 0 dengan dua tingkat toleransi yang berbeda menggunakan metode bisection"
      ],
      "metadata": {
        "id": "eneKdnvASYJ0"
      }
    },
    {
      "cell_type": "code",
      "source": [
        "f = lambda x: x**2 - 2\n",
        "\n",
        "r1 = bisection(f, 0, 2, 0.1)\n",
        "print(\"r1 =\", r1)\n",
        "r01 = bisection(f, 0, 2, 0.01)\n",
        "print(\"r01 =\", r01)\n",
        "\n",
        "print(\"f(r1) =\", f(r1))\n",
        "print(\"f(r01) =\", f(r01))"
      ],
      "metadata": {
        "id": "ncQT2IKYvNBk",
        "colab": {
          "base_uri": "https://localhost:8080/"
        },
        "outputId": "858af62f-0e39-4051-d2e7-6a28cb8b5b79"
      },
      "execution_count": null,
      "outputs": [
        {
          "output_type": "stream",
          "name": "stdout",
          "text": [
            "r1 = 1.4375\n",
            "r01 = 1.4140625\n",
            "f(r1) = 0.06640625\n",
            "f(r01) = -0.00042724609375\n"
          ]
        }
      ]
    },
    {
      "cell_type": "markdown",
      "source": [
        "# Bagian Baru"
      ],
      "metadata": {
        "id": "EUBYrXCbTMo_"
      }
    }
  ]
}